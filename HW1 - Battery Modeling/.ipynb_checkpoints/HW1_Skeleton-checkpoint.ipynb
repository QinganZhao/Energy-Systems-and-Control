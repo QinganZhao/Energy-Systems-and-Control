{
 "cells": [
  {
   "cell_type": "code",
   "execution_count": null,
   "metadata": {
    "collapsed": true
   },
   "outputs": [],
   "source": [
    "## CE 295 - Energy Systems and Control\n",
    "# HW 1 : Battery Modeling, Analysis, and Control\n",
    "# Franklin Zhao, SID 3033030808\n",
    "# Prof. Moura\n",
    "# Due Date Feb 2\n",
    "\n",
    "# Franklin_Zhao_HW1.ipynb\n",
    "\n",
    "import numpy as np\n",
    "import matplotlib.pyplot as plt\n",
    "from scipy import signal\n",
    "%matplotlib inline\n",
    "from __future__ import division\n",
    "\n",
    "fs = 15; # Font Size for plots"
   ]
  },
  {
   "cell_type": "code",
   "execution_count": null,
   "metadata": {},
   "outputs": [],
   "source": [
    "## Part(a): Model Parameters\n",
    "\n",
    "# ECM Model Parameters\n",
    "Q =  # [Coulombs]\n",
    "R1 =  # [Ohms]\n",
    "R2 =  # [Ohms]\n",
    "C =  # [Farads]\n",
    "\n",
    "# OCV polynomial coefficients\n",
    "p_0 = 3.4707\n",
    "p_1 = 1.6112\n",
    "p_2 = -2.6287\n",
    "p_3 = 1.7175\n",
    "\n",
    "# Plot nonlinear OCV function\n",
    "z_vec = np.linspace(0,1,25)\n",
    "OCV = p_0 + p_1*z_vec + \n",
    "print(z_vec)\n",
    "print(OCV)\n",
    "\n",
    "plt.plot(z_vec,OCV)\n",
    "plt.xlabel('SOC, $z$ [-]',fontsize=fs)\n",
    "plt.ylabel('OCV [volts]',fontsize=fs)\n",
    "plt.tick_params(axis='both', which='major', labelsize=fs)\n",
    "plt.show()"
   ]
  },
  {
   "cell_type": "code",
   "execution_count": null,
   "metadata": {},
   "outputs": [],
   "source": [
    "## Part(b): Simulate\n",
    "\n",
    "# Assemble (A,B) state-space matrices\n",
    "A = \n",
    "B = \n",
    "print(A)\n",
    "print(B)\n",
    "C_dummy = \n",
    "D_dummy = \n",
    "print(C_dummy)\n",
    "print(D_dummy)\n",
    "\n",
    "# Create state-space model\n",
    "sys = signal.lti( , , , )\n",
    "\n",
    "# Create time vector\n",
    "DeltaT = 1 # Time step size [sec]\n",
    "t = np.arange(0,10*60,DeltaT)   # Total Simulation time (min*sec/min)\n",
    "#print('time')\n",
    "#print(t)\n",
    "\n",
    "# Input current signals\n",
    "#print(np.shape(t))\n",
    "Current = np.zeros_like(t)*0\n",
    "for k in range(0, len(Current)):\n",
    "    if (t[k] % 40) < 20:\n",
    "        Current[k] = -5\n",
    "\n",
    "# Initial Conditions\n",
    "z0 = 0.5 # state-of-charge\n",
    "V_c0 = 0 # capacitor voltage\n",
    "x0 = [z0,V_c0] # np.array([[z0],[V_c0]])   # Vectorize initial conditions\n",
    "print('x0')\n",
    "print(x0)\n",
    "\n",
    "print(np.shape(x0))\n",
    "print(np.shape(Current))\n",
    "print(np.shape(t))\n",
    "\n",
    "# Simulate linear dynamics (Read documentation on scipy.signal.lsim)\n",
    "tsim, y, x = signal.lsim2( , , , )"
   ]
  },
  {
   "cell_type": "code",
   "execution_count": null,
   "metadata": {},
   "outputs": [],
   "source": [
    "# Parse out states\n",
    "z = x[:,0]\n",
    "V_c = x[:,1]\n",
    "\n",
    "# Compute nonlinear output function\n",
    "V_nl = \n",
    "\n",
    "### Compute linearized output function\n",
    "# Linearization Points\n",
    "zeq =    # state-of-charge\n",
    "V_ceq =  # capacitor voltage\n",
    "Ieq =  # Current\n",
    "\n",
    "V_lin = "
   ]
  },
  {
   "cell_type": "code",
   "execution_count": null,
   "metadata": {},
   "outputs": [],
   "source": [
    "## Part(b): Plot results\n",
    "\n",
    "# Current\n",
    "plt.figure(num=2, figsize=(8, 8), dpi=80, facecolor='w', edgecolor='k')\n",
    "plt.subplot(3, 1, 1)\n",
    "plt.plot( )\n",
    "plt.ylabel( )\n",
    "\n",
    "# State-of-charge\n",
    "plt.subplot(3, 1, 2)\n",
    "plt.plot( )\n",
    "plt.ylabel( )\n",
    "\n",
    "# Nonlinear and linearized voltage\n",
    "plt.subplot(3, 1, 3)\n",
    "plt.plot( , ,label=\"Nonlinear\")\n",
    "plt.plot( , , 'r--', label=\"Linearized\")\n",
    "plt.ylabel( )\n",
    "plt.xlabel( )\n",
    "plt.legend( )\n",
    "\n",
    "plt.show()"
   ]
  },
  {
   "cell_type": "code",
   "execution_count": null,
   "metadata": {
    "collapsed": true
   },
   "outputs": [],
   "source": []
  }
 ],
 "metadata": {
  "kernelspec": {
   "display_name": "Python 2",
   "language": "python",
   "name": "python2"
  },
  "language_info": {
   "codemirror_mode": {
    "name": "ipython",
    "version": 2
   },
   "file_extension": ".py",
   "mimetype": "text/x-python",
   "name": "python",
   "nbconvert_exporter": "python",
   "pygments_lexer": "ipython2",
   "version": "2.7.14"
  }
 },
 "nbformat": 4,
 "nbformat_minor": 1
}
